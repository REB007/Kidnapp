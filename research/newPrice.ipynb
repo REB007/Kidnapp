{
 "cells": [
  {
   "cell_type": "code",
   "execution_count": 4,
   "metadata": {},
   "outputs": [],
   "source": [
    "import matplotlib.pyplot as plt\n",
    "import numpy as np"
   ]
  },
  {
   "cell_type": "code",
   "execution_count": 89,
   "metadata": {},
   "outputs": [
    {
     "data": {
      "text/plain": [
       "[<matplotlib.lines.Line2D at 0x25afa2d1e08>]"
      ]
     },
     "execution_count": 89,
     "metadata": {},
     "output_type": "execute_result"
    },
    {
     "data": {
      "image/png": "[encoded data removed]",
      "text/plain": [
       "<Figure size 432x288 with 1 Axes>"
      ]
     },
     "metadata": {
      "needs_background": "light"
     },
     "output_type": "display_data"
    }
   ],
   "source": [
    "curve = []\n",
    "gap = []\n",
    "\n",
    "curve.append(1)\n",
    "gap.append(1)\n",
    "\n",
    "total = 50\n",
    "\n",
    "for n in range(1, total):\n",
    "    curve.append((2 - (n/(n+1)) ** n) * curve[n-1])\n",
    "    #curve.append(curve[n-1] + (400 / curve[n-1]) + (5 / n))\n",
    "    gap.append(curve[n] - curve[n-1])\n",
    "gap\n",
    "#plt.plot(curve)\n",
    "plt.plot(gap)"
   ]
  }
 ],
 "metadata": {
  "kernelspec": {
   "display_name": "Python 3.7.4 64-bit",
   "language": "python",
   "name": "python3"
  },
  "language_info": {
   "codemirror_mode": {
    "name": "ipython",
    "version": 3
   },
   "file_extension": ".py",
   "mimetype": "text/x-python",
   "name": "python",
   "nbconvert_exporter": "python",
   "pygments_lexer": "ipython3",
   "version": "3.7.4"
  },
  "orig_nbformat": 4,
  "vscode": {
   "interpreter": {
    "hash": "7eedc9fa1a19ed47ac80da737fbbb05ee64f3bc8c89c7e325e3beb50502b48c9"
   }
  }
 },
 "nbformat": 4,
 "nbformat_minor": 2
}
